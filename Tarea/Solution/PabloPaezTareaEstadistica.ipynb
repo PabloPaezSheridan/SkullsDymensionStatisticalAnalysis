{
 "cells": [
  {
   "cell_type": "code",
   "execution_count": 29,
   "metadata": {},
   "outputs": [],
   "source": [
    "import os\n",
    "from typing import List\n",
    "import pandas as pd\n",
    "import matplotlib.pyplot as plt\n",
    "from enum import Enum\n",
    "from scipy.stats import kstest\n",
    "import numpy as np\n",
    "import scipy.stats as st\n",
    "from scipy.stats import levene"
   ]
  },
  {
   "cell_type": "code",
   "execution_count": 7,
   "metadata": {},
   "outputs": [],
   "source": [
    "class HistoricalPeriods(Enum):\n",
    "    early_predynastic = 1,\n",
    "    late_predynastic = 2"
   ]
  },
  {
   "cell_type": "code",
   "execution_count": 8,
   "metadata": {},
   "outputs": [],
   "source": [
    "# extraccion de datos segun la muestra\n",
    "def sample_data(period:HistoricalPeriods) -> list[int]:\n",
    "    try:\n",
    "        fullpath = os.path.abspath(os.path.join('..','Statement', 'datosejercicioevaluacionanchuras.xlsx'))\n",
    "        df = pd.read_excel(fullpath)\n",
    "    except FileNotFoundError:\n",
    "        print(\"Error: File datosejercicioevaluacionanchuras not found.\")\n",
    "        return [] \n",
    "\n",
    "    filas_filtradas = df[df[\"Época histórica\"] == period.value] \n",
    "\n",
    "    data_list = filas_filtradas[\"Anchura del cráneo\"].tolist() \n",
    "\n",
    "    return data_list"
   ]
  },
  {
   "cell_type": "code",
   "execution_count": 9,
   "metadata": {},
   "outputs": [],
   "source": [
    "# calculo de medidas estadisticas\n",
    "def show_statitics_measures(data: List[int]):\n",
    "    df = pd.DataFrame({'valores': data})\n",
    "    media = df['valores'].mean()\n",
    "    mediana = df['valores'].median()\n",
    "    moda = df['valores'].mode().iat[0]\n",
    "    varianza = df['valores'].var()\n",
    "    desviacion_estandar = df['valores'].std()\n",
    "    asimetria = df['valores'].skew()\n",
    "    curtosis = df['valores'].kurt()\n",
    "\n",
    "    print('Media:', media)\n",
    "    print('Mediana:', mediana)\n",
    "    print('Moda:', moda)\n",
    "    print('Varianza:', varianza)\n",
    "    print('Desviación estándar:', desviacion_estandar)\n",
    "    print('Asimetría (coeficiente de asimetría de fisher):', asimetria)\n",
    "    print('Curtosis:', curtosis)"
   ]
  },
  {
   "cell_type": "code",
   "execution_count": 10,
   "metadata": {},
   "outputs": [],
   "source": [
    "# diagrama de caja de bigotes para un conjunto de datos dados\n",
    "def box_diagram(data : List[int], title: str):\n",
    "    plt.boxplot(data)\n",
    "    plt.title(title)\n",
    "    plt.ylabel(\"Valores\")\n",
    "    plt.show()"
   ]
  },
  {
   "cell_type": "code",
   "execution_count": 11,
   "metadata": {},
   "outputs": [],
   "source": [
    "def kolmogorov_smirnov_test(data: List[int], significante_level: float):\n",
    "    data_serie = pd.Series(data)\n",
    "    df = pd.DataFrame({'valores': data})\n",
    "\n",
    "    statistic, p_value = kstest(data_serie, 'norm', args= ( df['valores'].mean(), df['valores'].std()))\n",
    "\n",
    "    print(\"Estadístico KS:\", statistic)\n",
    "    print(\"Valor p:\", p_value)\n",
    "\n",
    "    if p_value > significante_level:\n",
    "        print(\"La muestra sigue una distribución normal (no se rechaza la hipótesis nula)\")\n",
    "    else:\n",
    "        print(\"La muestra no sigue una distribución normal (se rechaza la hipótesis nula)\")"
   ]
  },
  {
   "cell_type": "code",
   "execution_count": 26,
   "metadata": {},
   "outputs": [],
   "source": [
    "def intervalo_confianza_diff_medias(muestra1, muestra2, nivel_significancia):\n",
    "    n1 = len(muestra1)\n",
    "    n2 = len(muestra2)\n",
    "    media1 = np.mean(muestra1)\n",
    "    media2 = np.mean(muestra2)\n",
    "    varianza1 = np.var(muestra1, ddof=1)  # ddof=1 para usar la varianza muestral\n",
    "    varianza2 = np.var(muestra2, ddof=1)\n",
    "\n",
    "    gl = n1 + n2 - 2  # Grados de libertad\n",
    "\n",
    "    t_critico = st.t.ppf(1 - nivel_significancia/2, gl)  # Valor crítico de la distribución t\n",
    "    error_estandar = np.sqrt(varianza1/n1 + varianza2/n2)\n",
    "    margen_error = t_critico * error_estandar\n",
    "    limite_inferior = (media1 - media2) - margen_error\n",
    "    limite_superior = (media1 - media2) + margen_error\n",
    " \n",
    "\n",
    "    return (limite_inferior, limite_superior)"
   ]
  },
  {
   "cell_type": "code",
   "execution_count": 30,
   "metadata": {},
   "outputs": [],
   "source": [
    "def levene_test(sample1: List[int], sample2: List[int], significance_level:float):\n",
    "    statistic, p_value = levene(sample1, sample2)\n",
    "\n",
    "    print(\"Estadístico de Levene:\", statistic)\n",
    "    print(\"Valor p:\", p_value)\n",
    "\n",
    "    if p_value > significance_level:\n",
    "        print(\"No se rechaza la hipótesis nula: las varianzas son iguales.\")\n",
    "    else:\n",
    "        print(\"Se rechaza la hipótesis nula: las varianzas no son iguales.\")"
   ]
  },
  {
   "cell_type": "code",
   "execution_count": 32,
   "metadata": {},
   "outputs": [],
   "source": [
    "def t_student_test(sample1: List[int], sample2: List[int], significance_level:float):\n",
    "    t_statistic, p_value = st.ttest_ind(sample1, sample2)\n",
    "    \n",
    "    print(\"Estadístico t:\", t_statistic)\n",
    "    print(\"Valor p:\", p_value)\n",
    "\n",
    "    if p_value < significance_level:\n",
    "        print(\"Se rechaza la hipótesis nula: las medias son diferentes.\")\n",
    "    else:\n",
    "        print(\"No se rechaza la hipótesis nula: no hay evidencia suficiente para decir que las medias son diferentes.\")\n"
   ]
  },
  {
   "cell_type": "markdown",
   "metadata": {},
   "source": [
    "<h1>Ej 1A - Análisis Estadístico de las muestras </h1>\n",
    "<h2> Predinástico Temprano </h2>\n",
    "<p> A continuación se muestran los estadísticos de la muestra de las longitudes en anchura (en mm) de los craneos egipcios para el periodo predinastico temprano</p>"
   ]
  },
  {
   "cell_type": "code",
   "execution_count": 13,
   "metadata": {},
   "outputs": [
    {
     "name": "stdout",
     "output_type": "stream",
     "text": [
      "Media: 131.53333333333333\n",
      "Mediana: 131.5\n",
      "Moda: 131\n",
      "Varianza: 0.671264367816092\n",
      "Desviación estándar: 0.8193072487266861\n",
      "Asimetría (coeficiente de asimetría de fisher): 0.6920791207381011\n",
      "Curtosis: 1.7812575396080788\n"
     ]
    },
    {
     "data": {
      "image/png": "[encoded data removed]",
      "text/plain": [
       "<Figure size 640x480 with 1 Axes>"
      ]
     },
     "metadata": {},
     "output_type": "display_data"
    }
   ],
   "source": [
    "data = sample_data(HistoricalPeriods.early_predynastic)\n",
    "\n",
    "show_statitics_measures(data)\n",
    "\n",
    "box_diagram(data, HistoricalPeriods.early_predynastic.name)"
   ]
  },
  {
   "cell_type": "markdown",
   "metadata": {},
   "source": [
    "<h3>Análisis de los datos</h3>\n",
    "\n",
    "<p> Al estar la media y la mediana tan proximas podemos inferir que es una distribucion bastante simetrica, esa suposición nos la confirma el coeficiente de asimetria de fisher el cual muestra una asimetría positiva pero con un valor bastante cercano al 0 por lo que es cercana a una simetria perfecta. La varianza es tambien baja con respecto a el valor de las observaciones por lo que evidentemente podemos asumir que los valores se encuentran muy concentrados entornos a la media aunque ligeramente hacia la derecha debido a el coefienciente de asimetria  </p>\n",
    "\n",
    "<p> Todas estas observaciones las podemos ver confirmadas con el diagrama de cajas. El primer y segundo cuartil se encuentras dispuestos simetricamente entorno a la media. Vemos un outlier a la derecha de la muestra que puede inflenciar en las deducciones de asimetria positiva que nos hacia inferir el coeficiente de asimetria de Fisher, lo cual confirma nuestra hipotesis de que es una muestra bastante simetrica con datos muy concentrados a ambos lados de la media, esta ultima afirmacion la podemos sustentar (ademas de que la varianza es pequeña para las dimensiones observadas) en la curtosis positiva y bastanta grande, lo que indica que la curva de la distribucion es bastante escarpada</p>"
   ]
  },
  {
   "cell_type": "markdown",
   "metadata": {},
   "source": [
    "<h2>Predinástico Tardío</h2>\n",
    "\n",
    "<p> A continuación se muestran los estadísticos de la muestra de las longitudes en anchura (en mm) de los craneos egipcios para el periodo predinastico temprano</p>"
   ]
  },
  {
   "cell_type": "code",
   "execution_count": 14,
   "metadata": {},
   "outputs": [
    {
     "name": "stdout",
     "output_type": "stream",
     "text": [
      "Media: 132.46666666666667\n",
      "Mediana: 133.0\n",
      "Moda: 133\n",
      "Varianza: 1.0160919540229887\n",
      "Desviación estándar: 1.0080138659874618\n",
      "Asimetría (coeficiente de asimetría de fisher): 0.20552810308859776\n",
      "Curtosis: 0.008694393176689186\n"
     ]
    },
    {
     "data": {
      "image/png": "[encoded data removed]",
      "text/plain": [
       "<Figure size 640x480 with 1 Axes>"
      ]
     },
     "metadata": {},
     "output_type": "display_data"
    }
   ],
   "source": [
    "data = sample_data(HistoricalPeriods.late_predynastic)\n",
    "\n",
    "show_statitics_measures(data)\n",
    "\n",
    "box_diagram(data, HistoricalPeriods.late_predynastic.name)"
   ]
  },
  {
   "cell_type": "markdown",
   "metadata": {},
   "source": [
    "<h3> Análisis de los datos </h3>\n",
    "\n"
   ]
  },
  {
   "cell_type": "markdown",
   "metadata": {},
   "source": [
    "La mediana y la moda son iguales y ambas muy cercanas a la media por lo que podemos inferir de partida que los datos se corresponden a una distribucion bastante simetrica. La varianza es baja aunque ligermenta superior a la muestra anterior por lo que podemos suponer que los datos se encuentran concentrados alrededor de la media pero algo mas dispersos que la muestra anterior, esta afirmacion la podemos sustentar tambien en que la curtosis es apenas positiva, lo que sugiere que corresponden a una curva algo achatada.\n",
    "\n",
    "El diagrama de cajas nos muestra una tremenda concentracion de datos entorno a la media con el segundo cuartil concentradisimo en la media y con una dispersion de datos baja, de hecho los bigotes no son muy extensos lo que indica que los valores extremos tampoco estan tan lejos de la media. Hay un outlier a la derecha, algo muy parecido a lo que paso en la muestra anterior.\n",
    "\n",
    "En resumen: una distribución bastante simétrica, con baja dispersión y pocos valores atípicos. La mayoría de los datos se concentran alrededor de la media, y la forma general de la distribución se asemeja a la de una distribución normal."
   ]
  },
  {
   "cell_type": "markdown",
   "metadata": {},
   "source": [
    "<h2> Ej 1B - Test de Kolmogorov-Smirnov</h2>\n",
    "\n",
    "Vamos determinar si las muestras analizadas corresponden a una distribucion normal usando el test Kolmogorov-Smirnov. Usaremos un nivel de significancia de 0.05. Es decir vamos a procurarnos un 95% de certeza a el peso de nuestras afirmaciones sobre el test\n",
    "\n",
    "<h3> Predinástico Temprano</hr>"
   ]
  },
  {
   "cell_type": "code",
   "execution_count": 15,
   "metadata": {},
   "outputs": [
    {
     "name": "stdout",
     "output_type": "stream",
     "text": [
      "Estadístico KS: 0.24246269818372912\n",
      "Valor p: 0.04886236777870734\n",
      "La muestra no sigue una distribución normal (se rechaza la hipótesis nula)\n"
     ]
    }
   ],
   "source": [
    "data = sample_data(HistoricalPeriods.early_predynastic)\n",
    "\n",
    "alpha = 0.05\n",
    "\n",
    "kolmogorov_smirnov_test(data, alpha)"
   ]
  },
  {
   "cell_type": "markdown",
   "metadata": {},
   "source": [
    "<h3>Predinastico tardio<h3>"
   ]
  },
  {
   "cell_type": "code",
   "execution_count": 16,
   "metadata": {},
   "outputs": [
    {
     "name": "stdout",
     "output_type": "stream",
     "text": [
      "Estadístico KS: 0.2349629518015396\n",
      "Valor p: 0.061135306356961516\n",
      "La muestra sigue una distribución normal (no se rechaza la hipótesis nula)\n"
     ]
    }
   ],
   "source": [
    "data = sample_data(HistoricalPeriods.late_predynastic)\n",
    "\n",
    "alpha = 0.05\n",
    "\n",
    "kolmogorov_smirnov_test(data, alpha)"
   ]
  },
  {
   "cell_type": "markdown",
   "metadata": {},
   "source": [
    "<h2>Ej 2A - Test de diferencia de medias</h2>\n",
    "\n",
    "<p>A traves de este test vamos a extrer un intervalo de confanza con diferentes niveles de significancia  (Alpha = 0.01, 0.05, 0.10) para la difernecia de medias entre las dos muestras. Es decir vamos a calcular entre que valores deberia  estar el resultado entre las medias poblacionales de las respectivas muestras</p>\n"
   ]
  },
  {
   "cell_type": "code",
   "execution_count": 28,
   "metadata": {},
   "outputs": [
    {
     "name": "stdout",
     "output_type": "stream",
     "text": [
      "Intervalo de confianza para alpha = 0.01: (-1.56, -0.30)\n",
      "Intervalo de confianza para alpha = 0.05: (-1.41, -0.46)\n",
      "Intervalo de confianza para alpha = 0.1: (-1.33, -0.54)\n"
     ]
    }
   ],
   "source": [
    "data_early_predynastic = sample_data(HistoricalPeriods.early_predynastic)\n",
    "data_late_predynastic = sample_data(HistoricalPeriods.late_predynastic)\n",
    "\n",
    "alpha1 = 0.01\n",
    "alpha2 = 0.05\n",
    "alpha3 = 0.10\n",
    "\n",
    "(lim_inf1, lim_sup1) = intervalo_confianza_diff_medias(data_early_predynastic,data_late_predynastic,alpha1)\n",
    "(lim_inf2, lim_sup2) = intervalo_confianza_diff_medias(data_early_predynastic,data_late_predynastic,alpha2)\n",
    "(lim_inf3, lim_sup3) = intervalo_confianza_diff_medias(data_early_predynastic,data_late_predynastic,alpha3)\n",
    "\n",
    "print(f\"Intervalo de confianza para alpha = {alpha1}: ({lim_inf1:.2f}, {lim_sup1:.2f})\")\n",
    "print(f\"Intervalo de confianza para alpha = {alpha2}: ({lim_inf2:.2f}, {lim_sup2:.2f})\")\n",
    "print(f\"Intervalo de confianza para alpha = {alpha3}: ({lim_inf3:.2f}, {lim_sup3:.2f})\")\n"
   ]
  },
  {
   "cell_type": "markdown",
   "metadata": {},
   "source": [
    "<h3>Conclusion</h3>\n",
    "\n",
    "<p>Debido a que el 0 no se encuentra en ningun interavalo de los obtenidos y apelando a el maximo nivel de confianza obtenido: podemos suponer hasta con un 99% de certeza que las medias de las poblaciones correspondientes a las dos muestras que contrastamos (predinástico tardío y predinástico temprano) son distintas y que la media del predinastico tardio es al menos 0.30mm y hasta 1.56mm superior a la media del predinastico temprano</p>"
   ]
  },
  {
   "cell_type": "markdown",
   "metadata": {},
   "source": [
    "<h2>Ej 2B - Contrastar hipotesis de medias iguales con el test t</h2>\n",
    "\n",
    "<p> Para poder utilizar el test t de Student de manera valida para probar la hipotesis de medias poblacionales iguales partiendo de dos muestras se deben tener en cuenta las siguientes condiciones</p>\n",
    "\n",
    "<ul>\n",
    "    <li><b>Las muestras deben ser aleatorias e independientes</b>: el enunciado nos dice claramente que demos por supuesta esta premisa</li>\n",
    "    <li><b>Las poblaciones deben seguir una distribución normal</b>: en el ej 1b demostramos a partir del test Kolmogorov-Smirnov que la muestra del predinastico temprano no se corresponde con una distrubucion normal pero la del predinastico temprano si. Si bien es cierto que el test solo evalua la muestra y no la poblacion, no tenemos evidencia suficiente para decir que las poblaciones son normalemnte distribuidas y en cambio tenemos evidencia (al menos muestral) de que la muestra del predinastico tardio no esta normalmente distribuida</li>\n",
    "    <li><b>Las varianzas de las poblaciones deben ser iguales (homocedasticidad)</b>: para probar esto hay un par de alternativas, la que utilizamos es el test de Levene, el cual (como se enuncia debajo) nos indica que no hay evidencia sufiente para rechazar nuestra hipotesis de que las varianzas poblacionales son iguales con un nivel de signicancia del 95%\n",
    "    </li>\n",
    "</ul>"
   ]
  },
  {
   "cell_type": "code",
   "execution_count": 31,
   "metadata": {},
   "outputs": [
    {
     "name": "stdout",
     "output_type": "stream",
     "text": [
      "Estadístico de Levene: 0.6194926568758352\n",
      "Valor p: 0.434440377333167\n",
      "No se rechaza la hipótesis nula: las varianzas son iguales.\n"
     ]
    }
   ],
   "source": [
    "data_early_predynastic = sample_data(HistoricalPeriods.early_predynastic)\n",
    "data_late_predynastic = sample_data(HistoricalPeriods.late_predynastic)\n",
    "\n",
    "levene_test(data_early_predynastic,data_late_predynastic, 0.05)"
   ]
  },
  {
   "cell_type": "markdown",
   "metadata": {},
   "source": [
    "Por lo tanto al no cumplirse la segunda condicion no podemos dar como valido el test t de Student ya que nos podria dar resultados incorrectos. De todas maneras se nos solicita en la ejercitación que sin importar que las condiciones se cumplan o no debemos realizar las pruebas por lo que las hare de todas maneras."
   ]
  },
  {
   "cell_type": "code",
   "execution_count": 33,
   "metadata": {},
   "outputs": [
    {
     "name": "stdout",
     "output_type": "stream",
     "text": [
      "Estadístico t: -3.93544640665054\n",
      "Valor p: 0.00022478132957178793\n",
      "Se rechaza la hipótesis nula: las medias son diferentes.\n"
     ]
    }
   ],
   "source": [
    "data_early_predynastic = sample_data(HistoricalPeriods.early_predynastic)\n",
    "data_late_predynastic = sample_data(HistoricalPeriods.late_predynastic)\n",
    "\n",
    "t_student_test(data_early_predynastic,data_late_predynastic, 0.05)"
   ]
  },
  {
   "cell_type": "markdown",
   "metadata": {},
   "source": [
    "El test t de student nos indica que hay evidencia suficiente ,para el nivel de significancia del 95, de que las medias no son iguales. Sin embargo es importante repetir que la prueba de t de student no debe ser tomada como valida para estas muestras ya que la muestra del predinastico temprano es una muestra que no esta normalmente distribuida segun los resultados que obtuvimos del test Kolmogorov-Smirnov"
   ]
  }
 ],
 "metadata": {
  "kernelspec": {
   "display_name": "master-ciencia-de-datos-practica",
   "language": "python",
   "name": "python3"
  },
  "language_info": {
   "codemirror_mode": {
    "name": "ipython",
    "version": 3
   },
   "file_extension": ".py",
   "mimetype": "text/x-python",
   "name": "python",
   "nbconvert_exporter": "python",
   "pygments_lexer": "ipython3",
   "version": "3.13.0"
  }
 },
 "nbformat": 4,
 "nbformat_minor": 2
}
